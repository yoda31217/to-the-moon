{
 "cells": [
  {
   "cell_type": "markdown",
   "source": [
    "#### Technical setup\n",
    "> Skip this section"
   ],
   "metadata": {
    "collapsed": false,
    "pycharm": {
     "name": "#%% md\n"
    }
   }
  },
  {
   "cell_type": "code",
   "execution_count": 58,
   "outputs": [],
   "source": [
    "# @formatter:off"
   ],
   "metadata": {
    "collapsed": false,
    "pycharm": {
     "name": "#%%\n"
    }
   }
  },
  {
   "cell_type": "code",
   "execution_count": 59,
   "outputs": [
    {
     "name": "stdout",
     "output_type": "stream",
     "text": [
      "CPU times: user 4.94 ms, sys: 8.68 ms, total: 13.6 ms\n",
      "Wall time: 13.6 ms\n"
     ]
    }
   ],
   "source": [
    "%%time\n",
    "%reload_ext autoreload\n",
    "%autoreload 2\n",
    "# @formatter:on"
   ],
   "metadata": {
    "collapsed": false,
    "pycharm": {
     "name": "#%%\n"
    }
   }
  },
  {
   "cell_type": "markdown",
   "source": [
    "# Setup"
   ],
   "metadata": {
    "collapsed": false,
    "pycharm": {
     "name": "#%% md\n"
    }
   }
  },
  {
   "cell_type": "code",
   "execution_count": 60,
   "outputs": [],
   "source": [
    "symbol = 'ETHUSDT'\n",
    "symbol_k_lines_interval = '1s'\n",
    "symbol_ask_bid_price_difference = 0.01\n",
    "price_step_ratio = 0.001"
   ],
   "metadata": {
    "collapsed": false,
    "pycharm": {
     "name": "#%%\n"
    }
   }
  },
  {
   "cell_type": "markdown",
   "source": [
    "# Ticks"
   ],
   "metadata": {
    "collapsed": false,
    "pycharm": {
     "name": "#%% md\n"
    }
   }
  },
  {
   "cell_type": "code",
   "execution_count": 61,
   "metadata": {
    "pycharm": {
     "name": "#%%\n"
    }
   },
   "outputs": [
    {
     "data": {
      "text/plain": "           timestamp  bid_price  ask_price\n0      1677628800000    1605.24    1605.25\n1      1677628801000    1605.46    1605.47\n2      1677628802000    1605.46    1605.47\n3      1677628803000    1605.46    1605.47\n4      1677628804000    1605.47    1605.48\n...              ...        ...        ...\n86395  1681775995000    2074.00    2074.01\n86396  1681775996000    2074.00    2074.01\n86397  1681775997000    2074.00    2074.01\n86398  1681775998000    2074.00    2074.01\n86399  1681775999000    2074.00    2074.01\n\n[4142381 rows x 3 columns]",
      "text/html": "<div>\n<style scoped>\n    .dataframe tbody tr th:only-of-type {\n        vertical-align: middle;\n    }\n\n    .dataframe tbody tr th {\n        vertical-align: top;\n    }\n\n    .dataframe thead th {\n        text-align: right;\n    }\n</style>\n<table border=\"1\" class=\"dataframe\">\n  <thead>\n    <tr style=\"text-align: right;\">\n      <th></th>\n      <th>timestamp</th>\n      <th>bid_price</th>\n      <th>ask_price</th>\n    </tr>\n  </thead>\n  <tbody>\n    <tr>\n      <th>0</th>\n      <td>1677628800000</td>\n      <td>1605.24</td>\n      <td>1605.25</td>\n    </tr>\n    <tr>\n      <th>1</th>\n      <td>1677628801000</td>\n      <td>1605.46</td>\n      <td>1605.47</td>\n    </tr>\n    <tr>\n      <th>2</th>\n      <td>1677628802000</td>\n      <td>1605.46</td>\n      <td>1605.47</td>\n    </tr>\n    <tr>\n      <th>3</th>\n      <td>1677628803000</td>\n      <td>1605.46</td>\n      <td>1605.47</td>\n    </tr>\n    <tr>\n      <th>4</th>\n      <td>1677628804000</td>\n      <td>1605.47</td>\n      <td>1605.48</td>\n    </tr>\n    <tr>\n      <th>...</th>\n      <td>...</td>\n      <td>...</td>\n      <td>...</td>\n    </tr>\n    <tr>\n      <th>86395</th>\n      <td>1681775995000</td>\n      <td>2074.00</td>\n      <td>2074.01</td>\n    </tr>\n    <tr>\n      <th>86396</th>\n      <td>1681775996000</td>\n      <td>2074.00</td>\n      <td>2074.01</td>\n    </tr>\n    <tr>\n      <th>86397</th>\n      <td>1681775997000</td>\n      <td>2074.00</td>\n      <td>2074.01</td>\n    </tr>\n    <tr>\n      <th>86398</th>\n      <td>1681775998000</td>\n      <td>2074.00</td>\n      <td>2074.01</td>\n    </tr>\n    <tr>\n      <th>86399</th>\n      <td>1681775999000</td>\n      <td>2074.00</td>\n      <td>2074.01</td>\n    </tr>\n  </tbody>\n</table>\n<p>4142381 rows × 3 columns</p>\n</div>"
     },
     "execution_count": 61,
     "metadata": {},
     "output_type": "execute_result"
    }
   ],
   "source": [
    "from binance.binance_k_line_loader import load_binance_k_lines\n",
    "from binance.binance_tick_loader import load_binance_ticks\n",
    "from chart.ttm_chart import draw_line_chart\n",
    "\n",
    "k_lines = load_binance_k_lines(f\"../../../ttm-data/{symbol}-{symbol_k_lines_interval}-*.csv\")\n",
    "\n",
    "ticks = load_binance_ticks(k_lines, symbol_ask_bid_price_difference)\n",
    "\n",
    "# draw_line_chart(ticks.timestamp, ticks.bid_price, name='Bid Price')\n",
    "ticks"
   ]
  },
  {
   "cell_type": "markdown",
   "source": [
    "# Simulation"
   ],
   "metadata": {
    "collapsed": false,
    "pycharm": {
     "name": "#%% md\n"
    }
   }
  },
  {
   "cell_type": "code",
   "execution_count": 62,
   "outputs": [],
   "source": [
    "from trade.trade_simulator import TradeSimulator\n",
    "\n",
    "trade_simulator: TradeSimulator = TradeSimulator()\n",
    "trade_simulator.process_ticks(ticks, price_step_ratio)"
   ],
   "metadata": {
    "collapsed": false,
    "pycharm": {
     "name": "#%%\n"
    }
   }
  },
  {
   "cell_type": "markdown",
   "source": [
    "# Results\n"
   ],
   "metadata": {
    "collapsed": false,
    "pycharm": {
     "name": "#%% md\n"
    }
   }
  },
  {
   "cell_type": "code",
   "execution_count": 64,
   "outputs": [
    {
     "name": "stdout",
     "output_type": "stream",
     "text": [
      "=========\n",
      "Closed orders count: 30048\n",
      "Cumulative profit: -1169.1700000001035\n",
      "=========\n"
     ]
    },
    {
     "name": "stderr",
     "output_type": "stream",
     "text": [
      "/Users/nikita/Documents/projects/things-team/to-the-moon/ttm-analytics/src/chart/ttm_chart.py:15: UserWarning: FixedFormatter should only be used together with FixedLocator\n",
      "  plot.set_xticklabels(plot.get_xticklabels(), rotation=60)\n"
     ]
    },
    {
     "data": {
      "text/plain": "       open_timestamp  type  open_price  close_price  close_timestamp  profit   \n0        1.677629e+12   BUY     1603.36      1601.48     1.677629e+12   -1.88  \\\n1        1.677629e+12   BUY     1601.49      1603.28     1.677630e+12    1.79   \n2        1.677630e+12  SELL     1603.28      1605.15     1.677630e+12   -1.87   \n3        1.677630e+12  SELL     1605.14      1606.81     1.677630e+12   -1.67   \n4        1.677630e+12  SELL     1606.80      1608.50     1.677630e+12   -1.70   \n...               ...   ...         ...          ...              ...     ...   \n30043    1.681771e+12   BUY     2080.85      2078.74     1.681772e+12   -2.11   \n30044    1.681772e+12   BUY     2078.75      2076.38     1.681773e+12   -2.37   \n30045    1.681773e+12   BUY     2076.39      2073.92     1.681774e+12   -2.47   \n30046    1.681774e+12   BUY     2073.93      2076.20     1.681775e+12    2.27   \n30047    1.681775e+12  SELL     2076.20      2074.12     1.681775e+12    2.08   \n\n       cumulative_profit  \n0                  -1.88  \n1                  -0.09  \n2                  -1.96  \n3                  -3.63  \n4                  -5.33  \n...                  ...  \n30043           -1168.68  \n30044           -1171.05  \n30045           -1173.52  \n30046           -1171.25  \n30047           -1169.17  \n\n[30048 rows x 7 columns]",
      "text/html": "<div>\n<style scoped>\n    .dataframe tbody tr th:only-of-type {\n        vertical-align: middle;\n    }\n\n    .dataframe tbody tr th {\n        vertical-align: top;\n    }\n\n    .dataframe thead th {\n        text-align: right;\n    }\n</style>\n<table border=\"1\" class=\"dataframe\">\n  <thead>\n    <tr style=\"text-align: right;\">\n      <th></th>\n      <th>open_timestamp</th>\n      <th>type</th>\n      <th>open_price</th>\n      <th>close_price</th>\n      <th>close_timestamp</th>\n      <th>profit</th>\n      <th>cumulative_profit</th>\n    </tr>\n  </thead>\n  <tbody>\n    <tr>\n      <th>0</th>\n      <td>1.677629e+12</td>\n      <td>BUY</td>\n      <td>1603.36</td>\n      <td>1601.48</td>\n      <td>1.677629e+12</td>\n      <td>-1.88</td>\n      <td>-1.88</td>\n    </tr>\n    <tr>\n      <th>1</th>\n      <td>1.677629e+12</td>\n      <td>BUY</td>\n      <td>1601.49</td>\n      <td>1603.28</td>\n      <td>1.677630e+12</td>\n      <td>1.79</td>\n      <td>-0.09</td>\n    </tr>\n    <tr>\n      <th>2</th>\n      <td>1.677630e+12</td>\n      <td>SELL</td>\n      <td>1603.28</td>\n      <td>1605.15</td>\n      <td>1.677630e+12</td>\n      <td>-1.87</td>\n      <td>-1.96</td>\n    </tr>\n    <tr>\n      <th>3</th>\n      <td>1.677630e+12</td>\n      <td>SELL</td>\n      <td>1605.14</td>\n      <td>1606.81</td>\n      <td>1.677630e+12</td>\n      <td>-1.67</td>\n      <td>-3.63</td>\n    </tr>\n    <tr>\n      <th>4</th>\n      <td>1.677630e+12</td>\n      <td>SELL</td>\n      <td>1606.80</td>\n      <td>1608.50</td>\n      <td>1.677630e+12</td>\n      <td>-1.70</td>\n      <td>-5.33</td>\n    </tr>\n    <tr>\n      <th>...</th>\n      <td>...</td>\n      <td>...</td>\n      <td>...</td>\n      <td>...</td>\n      <td>...</td>\n      <td>...</td>\n      <td>...</td>\n    </tr>\n    <tr>\n      <th>30043</th>\n      <td>1.681771e+12</td>\n      <td>BUY</td>\n      <td>2080.85</td>\n      <td>2078.74</td>\n      <td>1.681772e+12</td>\n      <td>-2.11</td>\n      <td>-1168.68</td>\n    </tr>\n    <tr>\n      <th>30044</th>\n      <td>1.681772e+12</td>\n      <td>BUY</td>\n      <td>2078.75</td>\n      <td>2076.38</td>\n      <td>1.681773e+12</td>\n      <td>-2.37</td>\n      <td>-1171.05</td>\n    </tr>\n    <tr>\n      <th>30045</th>\n      <td>1.681773e+12</td>\n      <td>BUY</td>\n      <td>2076.39</td>\n      <td>2073.92</td>\n      <td>1.681774e+12</td>\n      <td>-2.47</td>\n      <td>-1173.52</td>\n    </tr>\n    <tr>\n      <th>30046</th>\n      <td>1.681774e+12</td>\n      <td>BUY</td>\n      <td>2073.93</td>\n      <td>2076.20</td>\n      <td>1.681775e+12</td>\n      <td>2.27</td>\n      <td>-1171.25</td>\n    </tr>\n    <tr>\n      <th>30047</th>\n      <td>1.681775e+12</td>\n      <td>SELL</td>\n      <td>2076.20</td>\n      <td>2074.12</td>\n      <td>1.681775e+12</td>\n      <td>2.08</td>\n      <td>-1169.17</td>\n    </tr>\n  </tbody>\n</table>\n<p>30048 rows × 7 columns</p>\n</div>"
     },
     "execution_count": 64,
     "metadata": {},
     "output_type": "execute_result"
    },
    {
     "data": {
      "text/plain": "<Figure size 640x480 with 1 Axes>",
      "image/png": "[encoded data removed]"
     },
     "metadata": {},
     "output_type": "display_data"
    }
   ],
   "source": [
    "from trade.trade_simulator_order import TradeSimulatorOrder\n",
    "\n",
    "closed_orders: [TradeSimulatorOrder] = trade_simulator.closed_orders\n",
    "cumulative_profit: float = trade_simulator.get_cumulative_profit()\n",
    "\n",
    "profits = trade_simulator.get_profits()\n",
    "\n",
    "print(f\"=========\")\n",
    "print(f\"Closed orders count: {len(closed_orders)}\")\n",
    "print(f\"Cumulative profit: {cumulative_profit}\")\n",
    "print(f\"=========\")\n",
    "draw_line_chart(profits.open_timestamp, profits.cumulative_profit, name='Cumulative Profit')\n",
    "\n",
    "profits"
   ],
   "metadata": {
    "collapsed": false,
    "pycharm": {
     "name": "#%%\n"
    }
   }
  },
  {
   "cell_type": "code",
   "execution_count": null,
   "outputs": [],
   "source": [],
   "metadata": {
    "collapsed": false,
    "pycharm": {
     "name": "#%%\n"
    }
   }
  },
  {
   "cell_type": "code",
   "execution_count": null,
   "outputs": [],
   "source": [],
   "metadata": {
    "collapsed": false,
    "pycharm": {
     "name": "#%%\n"
    }
   }
  },
  {
   "cell_type": "code",
   "execution_count": null,
   "outputs": [],
   "source": [],
   "metadata": {
    "collapsed": false,
    "pycharm": {
     "name": "#%%\n"
    }
   }
  }
 ],
 "metadata": {
  "kernelspec": {
   "display_name": "Python 3 (ipykernel)",
   "language": "python",
   "name": "python3"
  },
  "language_info": {
   "codemirror_mode": {
    "name": "ipython",
    "version": 3
   },
   "file_extension": ".py",
   "mimetype": "text/x-python",
   "name": "python",
   "nbconvert_exporter": "python",
   "pygments_lexer": "ipython3",
   "version": "3.11.3"
  }
 },
 "nbformat": 4,
 "nbformat_minor": 4
}