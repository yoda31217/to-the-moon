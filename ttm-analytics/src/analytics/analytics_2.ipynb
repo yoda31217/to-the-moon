{
 "cells": [
  {
   "cell_type": "markdown",
   "source": [
    "#### Technical setup\n",
    "> Skip this section"
   ],
   "metadata": {
    "collapsed": false,
    "pycharm": {
     "name": "#%% md\n"
    }
   }
  },
  {
   "cell_type": "code",
   "execution_count": 8,
   "outputs": [],
   "source": [
    "# @formatter:off"
   ],
   "metadata": {
    "collapsed": false,
    "pycharm": {
     "name": "#%%\n"
    }
   }
  },
  {
   "cell_type": "code",
   "execution_count": 9,
   "outputs": [
    {
     "name": "stdout",
     "output_type": "stream",
     "text": [
      "CPU times: user 4.8 ms, sys: 7.77 ms, total: 12.6 ms\n",
      "Wall time: 12.7 ms\n"
     ]
    }
   ],
   "source": [
    "%%time\n",
    "%reload_ext autoreload\n",
    "%autoreload 2\n",
    "# @formatter:on"
   ],
   "metadata": {
    "collapsed": false,
    "pycharm": {
     "name": "#%%\n"
    }
   }
  },
  {
   "cell_type": "markdown",
   "source": [
    "# Setup"
   ],
   "metadata": {
    "collapsed": false,
    "pycharm": {
     "name": "#%% md\n"
    }
   }
  },
  {
   "cell_type": "code",
   "execution_count": 10,
   "outputs": [],
   "source": [
    "symbol = 'ETHUSDT'\n",
    "symbol_k_lines_interval = '1s'\n",
    "symbol_ask_bid_price_difference = 0.01\n",
    "price_step_ratio = 0.01"
   ],
   "metadata": {
    "collapsed": false,
    "pycharm": {
     "name": "#%%\n"
    }
   }
  },
  {
   "cell_type": "markdown",
   "source": [
    "# Ticks"
   ],
   "metadata": {
    "collapsed": false,
    "pycharm": {
     "name": "#%% md\n"
    }
   }
  },
  {
   "cell_type": "code",
   "execution_count": null,
   "metadata": {
    "pycharm": {
     "name": "#%%\n",
     "is_executing": true
    }
   },
   "outputs": [],
   "source": [
    "from binance.binance_k_line_loader import load_binance_k_lines\n",
    "from binance.binance_tick_loader import load_binance_ticks\n",
    "from chart.ttm_chart import draw_line_chart\n",
    "\n",
    "k_lines = load_binance_k_lines(f\"../../../ttm-data/{symbol}-{symbol_k_lines_interval}-*.csv\")\n",
    "\n",
    "ticks = load_binance_ticks(k_lines, symbol_ask_bid_price_difference)\n",
    "\n",
    "draw_line_chart(ticks.timestamp, ticks.bid_price, name='Bid Price')\n",
    "ticks"
   ]
  },
  {
   "cell_type": "markdown",
   "source": [
    "# Simulation"
   ],
   "metadata": {
    "collapsed": false,
    "pycharm": {
     "name": "#%% md\n"
    }
   }
  },
  {
   "cell_type": "code",
   "execution_count": null,
   "outputs": [],
   "source": [
    "from trade.trade_simulator import TradeSimulator\n",
    "\n",
    "trade_simulator: TradeSimulator = TradeSimulator()\n",
    "trade_simulator.process_ticks(ticks, price_step_ratio)"
   ],
   "metadata": {
    "collapsed": false,
    "pycharm": {
     "name": "#%%\n",
     "is_executing": true
    }
   }
  },
  {
   "cell_type": "markdown",
   "source": [
    "# Results\n"
   ],
   "metadata": {
    "collapsed": false,
    "pycharm": {
     "name": "#%% md\n"
    }
   }
  },
  {
   "cell_type": "code",
   "execution_count": null,
   "outputs": [],
   "source": [
    "from trade.trade_simulator_order import TradeSimulatorOrder\n",
    "\n",
    "closed_orders: [TradeSimulatorOrder] = trade_simulator.get_closed_orders()\n",
    "cumulative_profit: float = trade_simulator.get_cumulative_profit()\n",
    "\n",
    "profits = trade_simulator.get_profits()\n",
    "\n",
    "print(f\"=========\")\n",
    "print(f\"Closed orders count: {len(closed_orders)}\")\n",
    "print(f\"Cumulative profit: {cumulative_profit}\")\n",
    "print(f\"=========\")\n",
    "draw_line_chart(profits.open_timestamp, profits.cumulative_profit, name='Cumulative Profit')\n",
    "\n",
    "profits"
   ],
   "metadata": {
    "collapsed": false,
    "pycharm": {
     "name": "#%%\n",
     "is_executing": true
    }
   }
  },
  {
   "cell_type": "code",
   "execution_count": null,
   "outputs": [],
   "source": [],
   "metadata": {
    "collapsed": false,
    "pycharm": {
     "name": "#%%\n",
     "is_executing": true
    }
   }
  },
  {
   "cell_type": "code",
   "execution_count": null,
   "outputs": [],
   "source": [],
   "metadata": {
    "collapsed": false,
    "pycharm": {
     "name": "#%%\n",
     "is_executing": true
    }
   }
  },
  {
   "cell_type": "code",
   "execution_count": null,
   "outputs": [],
   "source": [],
   "metadata": {
    "collapsed": false,
    "pycharm": {
     "name": "#%%\n",
     "is_executing": true
    }
   }
  }
 ],
 "metadata": {
  "kernelspec": {
   "display_name": "Python 3 (ipykernel)",
   "language": "python",
   "name": "python3"
  },
  "language_info": {
   "codemirror_mode": {
    "name": "ipython",
    "version": 3
   },
   "file_extension": ".py",
   "mimetype": "text/x-python",
   "name": "python",
   "nbconvert_exporter": "python",
   "pygments_lexer": "ipython3",
   "version": "3.11.3"
  }
 },
 "nbformat": 4,
 "nbformat_minor": 4
}