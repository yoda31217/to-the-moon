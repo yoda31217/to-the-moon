{
 "cells": [
  {
   "cell_type": "markdown",
   "metadata": {
    "pycharm": {
     "name": "#%% md\n"
    }
   },
   "source": [
    "# Parameters:"
   ]
  },
  {
   "cell_type": "code",
   "execution_count": 91,
   "metadata": {
    "pycharm": {
     "name": "#%%\n"
    },
    "tags": []
   },
   "outputs": [],
   "source": [
    "symbol = 'ETHUSDT'\n",
    "symbol_ask_bid_price_difference = 0.01\n",
    "checkPointPriceStepRatio = 0.001\n",
    "kLinesInterval = '1s'"
   ]
  },
  {
   "cell_type": "markdown",
   "metadata": {
    "pycharm": {
     "name": "#%% md\n"
    }
   },
   "source": [
    "# Environment:"
   ]
  },
  {
   "cell_type": "code",
   "execution_count": 92,
   "metadata": {
    "pycharm": {
     "name": "#%%\n"
    },
    "tags": []
   },
   "outputs": [
    {
     "name": "stdout",
     "output_type": "stream",
     "text": [
      "Requirement already satisfied: pandas in /Users/nikita/Documents/projects/things-team/to-the-moon/ttm-analytics/.venv/lib/python3.11/site-packages (2.0.0)\r\n",
      "Requirement already satisfied: numpy>=1.21.0 in /Users/nikita/Documents/projects/things-team/to-the-moon/ttm-analytics/.venv/lib/python3.11/site-packages (from pandas) (1.24.2)\r\n",
      "Requirement already satisfied: pytz>=2020.1 in /Users/nikita/Documents/projects/things-team/to-the-moon/ttm-analytics/.venv/lib/python3.11/site-packages (from pandas) (2023.3)\r\n",
      "Requirement already satisfied: python-dateutil>=2.8.2 in /Users/nikita/Documents/projects/things-team/to-the-moon/ttm-analytics/.venv/lib/python3.11/site-packages (from pandas) (2.8.2)\r\n",
      "Requirement already satisfied: tzdata>=2022.1 in /Users/nikita/Documents/projects/things-team/to-the-moon/ttm-analytics/.venv/lib/python3.11/site-packages (from pandas) (2023.3)\r\n",
      "Requirement already satisfied: six>=1.5 in /Users/nikita/Documents/projects/things-team/to-the-moon/ttm-analytics/.venv/lib/python3.11/site-packages (from python-dateutil>=2.8.2->pandas) (1.16.0)\r\n",
      "\u001B[33mWARNING: You are using pip version 21.3.1; however, version 23.1 is available.\r\n",
      "You should consider upgrading via the '/Users/nikita/Documents/projects/things-team/to-the-moon/ttm-analytics/.venv/bin/python -m pip install --upgrade pip' command.\u001B[0m\r\n",
      "Requirement already satisfied: matplotlib in /Users/nikita/Documents/projects/things-team/to-the-moon/ttm-analytics/.venv/lib/python3.11/site-packages (3.7.1)\r\n",
      "Requirement already satisfied: packaging>=20.0 in /Users/nikita/Documents/projects/things-team/to-the-moon/ttm-analytics/.venv/lib/python3.11/site-packages (from matplotlib) (23.1)\r\n",
      "Requirement already satisfied: contourpy>=1.0.1 in /Users/nikita/Documents/projects/things-team/to-the-moon/ttm-analytics/.venv/lib/python3.11/site-packages (from matplotlib) (1.0.7)\r\n",
      "Requirement already satisfied: kiwisolver>=1.0.1 in /Users/nikita/Documents/projects/things-team/to-the-moon/ttm-analytics/.venv/lib/python3.11/site-packages (from matplotlib) (1.4.4)\r\n",
      "Requirement already satisfied: fonttools>=4.22.0 in /Users/nikita/Documents/projects/things-team/to-the-moon/ttm-analytics/.venv/lib/python3.11/site-packages (from matplotlib) (4.39.3)\r\n",
      "Requirement already satisfied: python-dateutil>=2.7 in /Users/nikita/Documents/projects/things-team/to-the-moon/ttm-analytics/.venv/lib/python3.11/site-packages (from matplotlib) (2.8.2)\r\n",
      "Requirement already satisfied: pillow>=6.2.0 in /Users/nikita/Documents/projects/things-team/to-the-moon/ttm-analytics/.venv/lib/python3.11/site-packages (from matplotlib) (9.5.0)\r\n",
      "Requirement already satisfied: numpy>=1.20 in /Users/nikita/Documents/projects/things-team/to-the-moon/ttm-analytics/.venv/lib/python3.11/site-packages (from matplotlib) (1.24.2)\r\n",
      "Requirement already satisfied: pyparsing>=2.3.1 in /Users/nikita/Documents/projects/things-team/to-the-moon/ttm-analytics/.venv/lib/python3.11/site-packages (from matplotlib) (3.0.9)\r\n",
      "Requirement already satisfied: cycler>=0.10 in /Users/nikita/Documents/projects/things-team/to-the-moon/ttm-analytics/.venv/lib/python3.11/site-packages (from matplotlib) (0.11.0)\r\n",
      "Requirement already satisfied: six>=1.5 in /Users/nikita/Documents/projects/things-team/to-the-moon/ttm-analytics/.venv/lib/python3.11/site-packages (from python-dateutil>=2.7->matplotlib) (1.16.0)\r\n",
      "\u001B[33mWARNING: You are using pip version 21.3.1; however, version 23.1 is available.\r\n",
      "You should consider upgrading via the '/Users/nikita/Documents/projects/things-team/to-the-moon/ttm-analytics/.venv/bin/python -m pip install --upgrade pip' command.\u001B[0m\r\n"
     ]
    }
   ],
   "source": [
    "!pip install pandas\n",
    "!pip install matplotlib\n",
    "\n",
    "import datetime as dt\n",
    "\n",
    "import matplotlib.dates as dates\n",
    "import matplotlib.pyplot as plot\n",
    "import pandas as pd"
   ]
  },
  {
   "cell_type": "markdown",
   "metadata": {
    "pycharm": {
     "name": "#%% md\n"
    }
   },
   "source": [
    "# K-lines"
   ]
  },
  {
   "cell_type": "code",
   "execution_count": 93,
   "metadata": {
    "pycharm": {
     "name": "#%%\n"
    },
    "tags": []
   },
   "outputs": [
    {
     "name": "stdout",
     "output_type": "stream",
     "text": [
      "CPU times: user 2.5 s, sys: 857 ms, total: 3.36 s\n",
      "Wall time: 3.61 s\n"
     ]
    },
    {
     "data": {
      "text/plain": "       open_timestamp_millis  open_price  high_price  low_price  close_price   \n0              1677628800000     1605.24     1605.47    1605.23      1605.47  \\\n1              1677628801000     1605.46     1605.46    1605.46      1605.46   \n2              1677628802000     1605.46     1605.47    1605.46      1605.46   \n3              1677628803000     1605.46     1605.47    1605.46      1605.47   \n4              1677628804000     1605.47     1605.47    1605.46      1605.46   \n...                      ...         ...         ...        ...          ...   \n86395          1681775995000     2074.00     2074.00    2074.00      2074.00   \n86396          1681775996000     2074.00     2074.00    2074.00      2074.00   \n86397          1681775997000     2074.00     2074.00    2074.00      2074.00   \n86398          1681775998000     2074.00     2074.00    2074.00      2074.00   \n86399          1681775999000     2074.00     2074.00    2073.99      2074.00   \n\n       volume  close_timestamp_millis  quote_asset_volume  trades_count   \n0      7.9272           1677628800999        12725.338503            34  \\\n1      0.4193           1677628801999          673.169378             5   \n2      1.8458           1677628802999         2963.359645            10   \n3      0.7839           1677628803999         1258.525272            13   \n4      0.1706           1677628804999          273.891924             2   \n...       ...                     ...                 ...           ...   \n86395  0.1542           1681775995999          319.810800             2   \n86396  0.0000           1681775996999            0.000000             0   \n86397  0.0898           1681775997999          186.245200             3   \n86398  0.0000           1681775998999            0.000000             0   \n86399  0.4267           1681775999999          884.972676            12   \n\n       taker_buy_base_asset_volume  taker_buy_quote_asset_volume  ignore  \n0                           7.0694                  11348.217718       0  \n1                           0.0000                      0.000000       0  \n2                           0.1577                    253.182619       0  \n3                           0.5178                    831.312366       0  \n4                           0.0448                     71.925056       0  \n...                            ...                           ...     ...  \n86395                       0.1542                    319.810800       0  \n86396                       0.0000                      0.000000       0  \n86397                       0.0898                    186.245200       0  \n86398                       0.0000                      0.000000       0  \n86399                       0.1143                    237.058200       0  \n\n[4142381 rows x 12 columns]",
      "text/html": "<div>\n<style scoped>\n    .dataframe tbody tr th:only-of-type {\n        vertical-align: middle;\n    }\n\n    .dataframe tbody tr th {\n        vertical-align: top;\n    }\n\n    .dataframe thead th {\n        text-align: right;\n    }\n</style>\n<table border=\"1\" class=\"dataframe\">\n  <thead>\n    <tr style=\"text-align: right;\">\n      <th></th>\n      <th>open_timestamp_millis</th>\n      <th>open_price</th>\n      <th>high_price</th>\n      <th>low_price</th>\n      <th>close_price</th>\n      <th>volume</th>\n      <th>close_timestamp_millis</th>\n      <th>quote_asset_volume</th>\n      <th>trades_count</th>\n      <th>taker_buy_base_asset_volume</th>\n      <th>taker_buy_quote_asset_volume</th>\n      <th>ignore</th>\n    </tr>\n  </thead>\n  <tbody>\n    <tr>\n      <th>0</th>\n      <td>1677628800000</td>\n      <td>1605.24</td>\n      <td>1605.47</td>\n      <td>1605.23</td>\n      <td>1605.47</td>\n      <td>7.9272</td>\n      <td>1677628800999</td>\n      <td>12725.338503</td>\n      <td>34</td>\n      <td>7.0694</td>\n      <td>11348.217718</td>\n      <td>0</td>\n    </tr>\n    <tr>\n      <th>1</th>\n      <td>1677628801000</td>\n      <td>1605.46</td>\n      <td>1605.46</td>\n      <td>1605.46</td>\n      <td>1605.46</td>\n      <td>0.4193</td>\n      <td>1677628801999</td>\n      <td>673.169378</td>\n      <td>5</td>\n      <td>0.0000</td>\n      <td>0.000000</td>\n      <td>0</td>\n    </tr>\n    <tr>\n      <th>2</th>\n      <td>1677628802000</td>\n      <td>1605.46</td>\n      <td>1605.47</td>\n      <td>1605.46</td>\n      <td>1605.46</td>\n      <td>1.8458</td>\n      <td>1677628802999</td>\n      <td>2963.359645</td>\n      <td>10</td>\n      <td>0.1577</td>\n      <td>253.182619</td>\n      <td>0</td>\n    </tr>\n    <tr>\n      <th>3</th>\n      <td>1677628803000</td>\n      <td>1605.46</td>\n      <td>1605.47</td>\n      <td>1605.46</td>\n      <td>1605.47</td>\n      <td>0.7839</td>\n      <td>1677628803999</td>\n      <td>1258.525272</td>\n      <td>13</td>\n      <td>0.5178</td>\n      <td>831.312366</td>\n      <td>0</td>\n    </tr>\n    <tr>\n      <th>4</th>\n      <td>1677628804000</td>\n      <td>1605.47</td>\n      <td>1605.47</td>\n      <td>1605.46</td>\n      <td>1605.46</td>\n      <td>0.1706</td>\n      <td>1677628804999</td>\n      <td>273.891924</td>\n      <td>2</td>\n      <td>0.0448</td>\n      <td>71.925056</td>\n      <td>0</td>\n    </tr>\n    <tr>\n      <th>...</th>\n      <td>...</td>\n      <td>...</td>\n      <td>...</td>\n      <td>...</td>\n      <td>...</td>\n      <td>...</td>\n      <td>...</td>\n      <td>...</td>\n      <td>...</td>\n      <td>...</td>\n      <td>...</td>\n      <td>...</td>\n    </tr>\n    <tr>\n      <th>86395</th>\n      <td>1681775995000</td>\n      <td>2074.00</td>\n      <td>2074.00</td>\n      <td>2074.00</td>\n      <td>2074.00</td>\n      <td>0.1542</td>\n      <td>1681775995999</td>\n      <td>319.810800</td>\n      <td>2</td>\n      <td>0.1542</td>\n      <td>319.810800</td>\n      <td>0</td>\n    </tr>\n    <tr>\n      <th>86396</th>\n      <td>1681775996000</td>\n      <td>2074.00</td>\n      <td>2074.00</td>\n      <td>2074.00</td>\n      <td>2074.00</td>\n      <td>0.0000</td>\n      <td>1681775996999</td>\n      <td>0.000000</td>\n      <td>0</td>\n      <td>0.0000</td>\n      <td>0.000000</td>\n      <td>0</td>\n    </tr>\n    <tr>\n      <th>86397</th>\n      <td>1681775997000</td>\n      <td>2074.00</td>\n      <td>2074.00</td>\n      <td>2074.00</td>\n      <td>2074.00</td>\n      <td>0.0898</td>\n      <td>1681775997999</td>\n      <td>186.245200</td>\n      <td>3</td>\n      <td>0.0898</td>\n      <td>186.245200</td>\n      <td>0</td>\n    </tr>\n    <tr>\n      <th>86398</th>\n      <td>1681775998000</td>\n      <td>2074.00</td>\n      <td>2074.00</td>\n      <td>2074.00</td>\n      <td>2074.00</td>\n      <td>0.0000</td>\n      <td>1681775998999</td>\n      <td>0.000000</td>\n      <td>0</td>\n      <td>0.0000</td>\n      <td>0.000000</td>\n      <td>0</td>\n    </tr>\n    <tr>\n      <th>86399</th>\n      <td>1681775999000</td>\n      <td>2074.00</td>\n      <td>2074.00</td>\n      <td>2073.99</td>\n      <td>2074.00</td>\n      <td>0.4267</td>\n      <td>1681775999999</td>\n      <td>884.972676</td>\n      <td>12</td>\n      <td>0.1143</td>\n      <td>237.058200</td>\n      <td>0</td>\n    </tr>\n  </tbody>\n</table>\n<p>4142381 rows × 12 columns</p>\n</div>"
     },
     "execution_count": 93,
     "metadata": {},
     "output_type": "execute_result"
    }
   ],
   "source": [
    "%%time\n",
    "\n",
    "from binance.binance_k_line_loader import load_binance_k_lines\n",
    "from chart.ttm_chart import draw_line_chart\n",
    "\n",
    "# https://www.binance.com/en/support/faq/how-to-download-historical-market-data-on-binance-5810ae42176b4770b880ce1f14932262\n",
    "# k_lines = load_binance_k_lines(f\"../../../ttm-data/ETHUSDT-1s-2023-03-01.csv\")\n",
    "k_lines = load_binance_k_lines(f\"../../../ttm-data/{symbol}-{kLinesInterval}-*.csv\")\n",
    "\n",
    "# draw_line_chart(k_lines.open_timestamp_millis, k_lines.open_price, name='Bid Price')\n",
    "k_lines"
   ]
  },
  {
   "cell_type": "markdown",
   "metadata": {
    "pycharm": {
     "name": "#%% md\n"
    }
   },
   "source": [
    "# Ticks:"
   ]
  },
  {
   "cell_type": "code",
   "execution_count": 94,
   "metadata": {
    "pycharm": {
     "name": "#%%\n"
    }
   },
   "outputs": [
    {
     "data": {
      "text/plain": "   timestampSeconds  bidPrice  askPrice\n0        1677628800   1605.24   1605.25\n1        1677628801   1605.46   1605.47\n2        1677628802   1605.46   1605.47\n3        1677628803   1605.46   1605.47\n4        1677628804   1605.47   1605.48\n5        1677628805   1605.46   1605.47\n6        1677628806   1605.35   1605.36\n7        1677628807   1605.34   1605.35\n8        1677628808   1605.21   1605.22\n9        1677628809   1605.21   1605.22",
      "text/html": "<div>\n<style scoped>\n    .dataframe tbody tr th:only-of-type {\n        vertical-align: middle;\n    }\n\n    .dataframe tbody tr th {\n        vertical-align: top;\n    }\n\n    .dataframe thead th {\n        text-align: right;\n    }\n</style>\n<table border=\"1\" class=\"dataframe\">\n  <thead>\n    <tr style=\"text-align: right;\">\n      <th></th>\n      <th>timestampSeconds</th>\n      <th>bidPrice</th>\n      <th>askPrice</th>\n    </tr>\n  </thead>\n  <tbody>\n    <tr>\n      <th>0</th>\n      <td>1677628800</td>\n      <td>1605.24</td>\n      <td>1605.25</td>\n    </tr>\n    <tr>\n      <th>1</th>\n      <td>1677628801</td>\n      <td>1605.46</td>\n      <td>1605.47</td>\n    </tr>\n    <tr>\n      <th>2</th>\n      <td>1677628802</td>\n      <td>1605.46</td>\n      <td>1605.47</td>\n    </tr>\n    <tr>\n      <th>3</th>\n      <td>1677628803</td>\n      <td>1605.46</td>\n      <td>1605.47</td>\n    </tr>\n    <tr>\n      <th>4</th>\n      <td>1677628804</td>\n      <td>1605.47</td>\n      <td>1605.48</td>\n    </tr>\n    <tr>\n      <th>5</th>\n      <td>1677628805</td>\n      <td>1605.46</td>\n      <td>1605.47</td>\n    </tr>\n    <tr>\n      <th>6</th>\n      <td>1677628806</td>\n      <td>1605.35</td>\n      <td>1605.36</td>\n    </tr>\n    <tr>\n      <th>7</th>\n      <td>1677628807</td>\n      <td>1605.34</td>\n      <td>1605.35</td>\n    </tr>\n    <tr>\n      <th>8</th>\n      <td>1677628808</td>\n      <td>1605.21</td>\n      <td>1605.22</td>\n    </tr>\n    <tr>\n      <th>9</th>\n      <td>1677628809</td>\n      <td>1605.21</td>\n      <td>1605.22</td>\n    </tr>\n  </tbody>\n</table>\n</div>"
     },
     "execution_count": 94,
     "metadata": {},
     "output_type": "execute_result"
    }
   ],
   "source": [
    "kLines = k_lines.iterrows()\n",
    "\n",
    "ticks = []\n",
    "\n",
    "for kLineIndex, kLine in kLines:\n",
    "    kLineOpenTimestampMillis = kLine.open_timestamp_millis\n",
    "    kLineOpenPrice = kLine.open_price\n",
    "\n",
    "    tickTimestampMillis = kLineOpenTimestampMillis\n",
    "    tickTimestampSeconds = int(tickTimestampMillis / 1000)\n",
    "    tickPrice = kLineOpenPrice\n",
    "\n",
    "    tick = {}\n",
    "    tick[\"timestampSeconds\"] = tickTimestampSeconds\n",
    "    tick[\"bidPrice\"] = tickPrice\n",
    "    tick[\"askPrice\"] = tickPrice + symbol_ask_bid_price_difference\n",
    "\n",
    "    ticks.append(tick)\n",
    "\n",
    "ticksDataFrame = pd.DataFrame(ticks)\n",
    "\n",
    "ticksDataFrame.head(10)"
   ]
  },
  {
   "cell_type": "markdown",
   "metadata": {
    "pycharm": {
     "name": "#%% md\n"
    }
   },
   "source": [
    "# Ticks price:"
   ]
  },
  {
   "cell_type": "code",
   "execution_count": 95,
   "metadata": {
    "pycharm": {
     "name": "#%%\n"
    }
   },
   "outputs": [],
   "source": [
    "# ticksPlotFigure = plot.figure()\n",
    "# ticksPlotAxes = ticksPlotFigure.add_subplot()\n",
    "# ticksPlotAxes.xaxis.set_major_formatter(dates.DateFormatter('%m-%d %H:%M'))\n",
    "# plot.xticks(rotation=60)\n",
    "#\n",
    "# tickDateTimes = [dt.datetime.fromtimestamp(timestampSeconds) for timestampSeconds in ticksDataFrame.timestampSeconds]\n",
    "#\n",
    "# ticksPlotAxes.plot(tickDateTimes, ticksDataFrame.bidPrice, color='green')\n"
   ]
  },
  {
   "cell_type": "code",
   "execution_count": 96,
   "metadata": {
    "pycharm": {
     "name": "#%%\n"
    },
    "tags": []
   },
   "outputs": [],
   "source": [
    "orders = []\n",
    "\n",
    "checkPoint = None\n",
    "\n",
    "\n",
    "def createCheckPoint(tick):\n",
    "    checkPoint = {}\n",
    "    checkPoint['tick'] = tick\n",
    "    checkPoint['priceStep'] = tick['bidPrice'] * checkPointPriceStepRatio\n",
    "    checkPoint['fallStepAskPrice'] = checkPoint[\"tick\"][\"bidPrice\"] - checkPoint['priceStep']\n",
    "    checkPoint['growStepBidPrice'] = checkPoint[\"tick\"][\"askPrice\"] + checkPoint['priceStep']\n",
    "    return checkPoint\n",
    "\n",
    "\n",
    "def createOrder(tick, orderType):\n",
    "    order = {}\n",
    "    order['openTimestampSeconds'] = tick['timestampSeconds']\n",
    "    order['openAskPrice'] = tick['askPrice']\n",
    "    order['openBidPrice'] = tick['bidPrice']\n",
    "    order['type'] = orderType\n",
    "    # print(f\"{orderType} order opened\")\n",
    "    return order\n",
    "\n",
    "\n",
    "def closeOrder(order, tick):\n",
    "    order['closeTimestampSeconds'] = tick['timestampSeconds']\n",
    "    order['closeAskPrice'] = tick['askPrice']\n",
    "    order['closeBidPrice'] = tick['bidPrice']\n",
    "    if order['type'] == 'grow':\n",
    "        order['profit'] = order['closeBidPrice'] - order['openAskPrice']\n",
    "    elif order['type'] == 'fall':\n",
    "        order['profit'] = order['openBidPrice'] - order['closeAskPrice']\n",
    "        # print(f\"Order closed with profit {order['profit']}\")\n",
    "\n",
    "\n",
    "currentOrder = None\n",
    "\n",
    "for tick in ticks:\n",
    "    if (checkPoint == None):\n",
    "        checkPoint = createCheckPoint(tick)\n",
    "        # print(f'Init check point: {checkPoint[\"tick\"][\"askPrice\"]} / {checkPoint[\"tick\"][\"bidPrice\"]} ({checkPoint[\"priceStep\"]})')\n",
    "        continue\n",
    "\n",
    "    growStepDetected = tick['bidPrice'] >= checkPoint['growStepBidPrice']\n",
    "    if (growStepDetected):\n",
    "        # print(f\"\\nGrow step: {tick['bidPrice']} >= {checkPoint['growStepBidPrice']}\")\n",
    "        checkPoint = createCheckPoint(tick)\n",
    "        # print(f'New check point: {checkPoint[\"tick\"][\"askPrice\"]} / {checkPoint[\"tick\"][\"bidPrice\"]} ({checkPoint[\"priceStep\"]})')\n",
    "\n",
    "    if (growStepDetected and currentOrder != None):\n",
    "        closeOrder(currentOrder, tick)\n",
    "        orders.append(currentOrder)\n",
    "        currentOrder = None\n",
    "\n",
    "    if (growStepDetected and currentOrder == None):\n",
    "        currentOrder = createOrder(tick, 'fall')\n",
    "\n",
    "    fallStepDetected = tick[\"askPrice\"] <= checkPoint['fallStepAskPrice']\n",
    "    if (fallStepDetected):\n",
    "        # print(f\"\\nFall step: {tick['askPrice']} <= {checkPoint['fallStepAskPrice']}\")\n",
    "        checkPoint = createCheckPoint(tick)\n",
    "        # print(f'New check point: {checkPoint[\"tick\"][\"askPrice\"]} / {checkPoint[\"tick\"][\"bidPrice\"]} ({checkPoint[\"priceStep\"]})')\n",
    "\n",
    "    if (fallStepDetected and currentOrder != None):\n",
    "        closeOrder(currentOrder, tick)\n",
    "        orders.append(currentOrder)\n",
    "        currentOrder = None\n",
    "\n",
    "    if (fallStepDetected and currentOrder == None):\n",
    "        currentOrder = createOrder(tick, 'grow')\n"
   ]
  },
  {
   "cell_type": "code",
   "execution_count": 97,
   "metadata": {
    "pycharm": {
     "name": "#%%\n"
    },
    "tags": []
   },
   "outputs": [
    {
     "data": {
      "text/plain": "       openTimestampSeconds  openAskPrice  openBidPrice  type   \n0                1677629231       1603.36       1603.35  grow  \\\n1                1677629370       1601.49       1601.48  grow   \n2                1677629547       1603.29       1603.28  fall   \n3                1677629568       1605.15       1605.14  fall   \n4                1677629857       1606.81       1606.80  fall   \n...                     ...           ...           ...   ...   \n30045            1681771479       2080.85       2080.84  grow   \n30046            1681772258       2078.75       2078.74  grow   \n30047            1681772896       2076.39       2076.38  grow   \n30048            1681774489       2073.93       2073.92  grow   \n30049            1681774559       2076.21       2076.20  fall   \n\n       closeTimestampSeconds  closeAskPrice  closeBidPrice  profit  \n0                 1677629370        1601.49        1601.48   -1.88  \n1                 1677629547        1603.29        1603.28    1.79  \n2                 1677629568        1605.15        1605.14   -1.87  \n3                 1677629857        1606.81        1606.80   -1.67  \n4                 1677630140        1608.50        1608.49   -1.70  \n...                      ...            ...            ...     ...  \n30045             1681772258        2078.75        2078.74   -2.11  \n30046             1681772896        2076.39        2076.38   -2.37  \n30047             1681774489        2073.93        2073.92   -2.47  \n30048             1681774559        2076.21        2076.20    2.27  \n30049             1681774665        2074.12        2074.11    2.08  \n\n[30050 rows x 8 columns]",
      "text/html": "<div>\n<style scoped>\n    .dataframe tbody tr th:only-of-type {\n        vertical-align: middle;\n    }\n\n    .dataframe tbody tr th {\n        vertical-align: top;\n    }\n\n    .dataframe thead th {\n        text-align: right;\n    }\n</style>\n<table border=\"1\" class=\"dataframe\">\n  <thead>\n    <tr style=\"text-align: right;\">\n      <th></th>\n      <th>openTimestampSeconds</th>\n      <th>openAskPrice</th>\n      <th>openBidPrice</th>\n      <th>type</th>\n      <th>closeTimestampSeconds</th>\n      <th>closeAskPrice</th>\n      <th>closeBidPrice</th>\n      <th>profit</th>\n    </tr>\n  </thead>\n  <tbody>\n    <tr>\n      <th>0</th>\n      <td>1677629231</td>\n      <td>1603.36</td>\n      <td>1603.35</td>\n      <td>grow</td>\n      <td>1677629370</td>\n      <td>1601.49</td>\n      <td>1601.48</td>\n      <td>-1.88</td>\n    </tr>\n    <tr>\n      <th>1</th>\n      <td>1677629370</td>\n      <td>1601.49</td>\n      <td>1601.48</td>\n      <td>grow</td>\n      <td>1677629547</td>\n      <td>1603.29</td>\n      <td>1603.28</td>\n      <td>1.79</td>\n    </tr>\n    <tr>\n      <th>2</th>\n      <td>1677629547</td>\n      <td>1603.29</td>\n      <td>1603.28</td>\n      <td>fall</td>\n      <td>1677629568</td>\n      <td>1605.15</td>\n      <td>1605.14</td>\n      <td>-1.87</td>\n    </tr>\n    <tr>\n      <th>3</th>\n      <td>1677629568</td>\n      <td>1605.15</td>\n      <td>1605.14</td>\n      <td>fall</td>\n      <td>1677629857</td>\n      <td>1606.81</td>\n      <td>1606.80</td>\n      <td>-1.67</td>\n    </tr>\n    <tr>\n      <th>4</th>\n      <td>1677629857</td>\n      <td>1606.81</td>\n      <td>1606.80</td>\n      <td>fall</td>\n      <td>1677630140</td>\n      <td>1608.50</td>\n      <td>1608.49</td>\n      <td>-1.70</td>\n    </tr>\n    <tr>\n      <th>...</th>\n      <td>...</td>\n      <td>...</td>\n      <td>...</td>\n      <td>...</td>\n      <td>...</td>\n      <td>...</td>\n      <td>...</td>\n      <td>...</td>\n    </tr>\n    <tr>\n      <th>30045</th>\n      <td>1681771479</td>\n      <td>2080.85</td>\n      <td>2080.84</td>\n      <td>grow</td>\n      <td>1681772258</td>\n      <td>2078.75</td>\n      <td>2078.74</td>\n      <td>-2.11</td>\n    </tr>\n    <tr>\n      <th>30046</th>\n      <td>1681772258</td>\n      <td>2078.75</td>\n      <td>2078.74</td>\n      <td>grow</td>\n      <td>1681772896</td>\n      <td>2076.39</td>\n      <td>2076.38</td>\n      <td>-2.37</td>\n    </tr>\n    <tr>\n      <th>30047</th>\n      <td>1681772896</td>\n      <td>2076.39</td>\n      <td>2076.38</td>\n      <td>grow</td>\n      <td>1681774489</td>\n      <td>2073.93</td>\n      <td>2073.92</td>\n      <td>-2.47</td>\n    </tr>\n    <tr>\n      <th>30048</th>\n      <td>1681774489</td>\n      <td>2073.93</td>\n      <td>2073.92</td>\n      <td>grow</td>\n      <td>1681774559</td>\n      <td>2076.21</td>\n      <td>2076.20</td>\n      <td>2.27</td>\n    </tr>\n    <tr>\n      <th>30049</th>\n      <td>1681774559</td>\n      <td>2076.21</td>\n      <td>2076.20</td>\n      <td>fall</td>\n      <td>1681774665</td>\n      <td>2074.12</td>\n      <td>2074.11</td>\n      <td>2.08</td>\n    </tr>\n  </tbody>\n</table>\n<p>30050 rows × 8 columns</p>\n</div>"
     },
     "execution_count": 97,
     "metadata": {},
     "output_type": "execute_result"
    }
   ],
   "source": [
    "ordersDataFrame = pd.DataFrame(orders)\n",
    "\n",
    "ordersDataFrame"
   ]
  },
  {
   "cell_type": "code",
   "execution_count": 98,
   "metadata": {
    "pycharm": {
     "name": "#%%\n"
    },
    "tags": []
   },
   "outputs": [],
   "source": [
    "profits = []\n",
    "\n",
    "currentProfit = 0\n",
    "\n",
    "for order in orders:\n",
    "    profit = {}\n",
    "    currentProfit = currentProfit + order['profit']\n",
    "    profit['value'] = currentProfit\n",
    "    profit['timestampSeconds'] = order['openTimestampSeconds']\n",
    "    profits.append(profit)\n",
    "\n",
    "profitsDataFrame = pd.DataFrame(profits)"
   ]
  },
  {
   "cell_type": "code",
   "execution_count": 101,
   "outputs": [
    {
     "data": {
      "text/plain": "         value  timestampSeconds\n0        -1.88        1677629231\n1        -0.09        1677629370\n2        -1.96        1677629547\n3        -3.63        1677629568\n4        -5.33        1677629857\n...        ...               ...\n30045 -1166.09        1681771479\n30046 -1168.46        1681772258\n30047 -1170.93        1681772896\n30048 -1168.66        1681774489\n30049 -1166.58        1681774559\n\n[30050 rows x 2 columns]",
      "text/html": "<div>\n<style scoped>\n    .dataframe tbody tr th:only-of-type {\n        vertical-align: middle;\n    }\n\n    .dataframe tbody tr th {\n        vertical-align: top;\n    }\n\n    .dataframe thead th {\n        text-align: right;\n    }\n</style>\n<table border=\"1\" class=\"dataframe\">\n  <thead>\n    <tr style=\"text-align: right;\">\n      <th></th>\n      <th>value</th>\n      <th>timestampSeconds</th>\n    </tr>\n  </thead>\n  <tbody>\n    <tr>\n      <th>0</th>\n      <td>-1.88</td>\n      <td>1677629231</td>\n    </tr>\n    <tr>\n      <th>1</th>\n      <td>-0.09</td>\n      <td>1677629370</td>\n    </tr>\n    <tr>\n      <th>2</th>\n      <td>-1.96</td>\n      <td>1677629547</td>\n    </tr>\n    <tr>\n      <th>3</th>\n      <td>-3.63</td>\n      <td>1677629568</td>\n    </tr>\n    <tr>\n      <th>4</th>\n      <td>-5.33</td>\n      <td>1677629857</td>\n    </tr>\n    <tr>\n      <th>...</th>\n      <td>...</td>\n      <td>...</td>\n    </tr>\n    <tr>\n      <th>30045</th>\n      <td>-1166.09</td>\n      <td>1681771479</td>\n    </tr>\n    <tr>\n      <th>30046</th>\n      <td>-1168.46</td>\n      <td>1681772258</td>\n    </tr>\n    <tr>\n      <th>30047</th>\n      <td>-1170.93</td>\n      <td>1681772896</td>\n    </tr>\n    <tr>\n      <th>30048</th>\n      <td>-1168.66</td>\n      <td>1681774489</td>\n    </tr>\n    <tr>\n      <th>30049</th>\n      <td>-1166.58</td>\n      <td>1681774559</td>\n    </tr>\n  </tbody>\n</table>\n<p>30050 rows × 2 columns</p>\n</div>"
     },
     "execution_count": 101,
     "metadata": {},
     "output_type": "execute_result"
    }
   ],
   "source": [
    "profitsDataFrame"
   ],
   "metadata": {
    "collapsed": false,
    "pycharm": {
     "name": "#%%\n"
    }
   }
  },
  {
   "cell_type": "code",
   "execution_count": 99,
   "metadata": {
    "pycharm": {
     "name": "#%%\n"
    },
    "tags": []
   },
   "outputs": [
    {
     "data": {
      "text/plain": "[<matplotlib.lines.Line2D at 0x59e192810>]"
     },
     "execution_count": 99,
     "metadata": {},
     "output_type": "execute_result"
    },
    {
     "data": {
      "text/plain": "<Figure size 640x480 with 1 Axes>",
      "image/png": "[encoded data removed]"
     },
     "metadata": {},
     "output_type": "display_data"
    }
   ],
   "source": [
    "profitPlotFigure = plot.figure()\n",
    "profitPlotAxes = profitPlotFigure.add_subplot()\n",
    "profitPlotAxes.xaxis.set_major_formatter(dates.DateFormatter('%m-%d %H:%M'))\n",
    "plot.xticks(rotation=60)\n",
    "\n",
    "profitDateTimes = [dt.datetime.fromtimestamp(timestampSeconds) for timestampSeconds in\n",
    "                   profitsDataFrame.timestampSeconds]\n",
    "\n",
    "profitPlotAxes.plot(profitDateTimes, profitsDataFrame.value, color='green')"
   ]
  },
  {
   "cell_type": "code",
   "execution_count": 100,
   "metadata": {
    "pycharm": {
     "name": "#%%\n"
    }
   },
   "outputs": [
    {
     "data": {
      "text/plain": "-1166.5800000001034"
     },
     "execution_count": 100,
     "metadata": {},
     "output_type": "execute_result"
    }
   ],
   "source": [
    "profits[len(profits) - 1]['value']\n"
   ]
  }
 ],
 "metadata": {
  "kernelspec": {
   "display_name": "Python 3 (ipykernel)",
   "language": "python",
   "name": "python3"
  },
  "language_info": {
   "codemirror_mode": {
    "name": "ipython",
    "version": 3
   },
   "file_extension": ".py",
   "mimetype": "text/x-python",
   "name": "python",
   "nbconvert_exporter": "python",
   "pygments_lexer": "ipython3",
   "version": "3.11.3"
  }
 },
 "nbformat": 4,
 "nbformat_minor": 4
}