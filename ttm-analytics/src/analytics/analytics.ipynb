{
 "cells": [
  {
   "cell_type": "markdown",
   "metadata": {
    "pycharm": {
     "name": "#%% md\n"
    }
   },
   "source": [
    "# Parameters:"
   ]
  },
  {
   "cell_type": "code",
   "execution_count": 17,
   "metadata": {
    "pycharm": {
     "name": "#%%\n"
    },
    "tags": []
   },
   "outputs": [],
   "source": [
    "symbol = 'ETHUSDT'\n",
    "symbol_ask_bid_price_difference = 0.01\n",
    "checkPointPriceStepRatio = 0.01\n",
    "kLinesInterval = '1s'"
   ]
  },
  {
   "cell_type": "markdown",
   "metadata": {
    "pycharm": {
     "name": "#%% md\n"
    }
   },
   "source": [
    "# Environment:"
   ]
  },
  {
   "cell_type": "code",
   "execution_count": 18,
   "metadata": {
    "pycharm": {
     "name": "#%%\n"
    },
    "tags": []
   },
   "outputs": [
    {
     "name": "stdout",
     "output_type": "stream",
     "text": [
      "Requirement already satisfied: pandas in /Users/nikita/Documents/projects/things-team/to-the-moon/ttm-analytics/.venv/lib/python3.11/site-packages (2.0.0)\r\n",
      "Requirement already satisfied: numpy>=1.23.2 in /Users/nikita/Documents/projects/things-team/to-the-moon/ttm-analytics/.venv/lib/python3.11/site-packages (from pandas) (1.24.2)\r\n",
      "Requirement already satisfied: tzdata>=2022.1 in /Users/nikita/Documents/projects/things-team/to-the-moon/ttm-analytics/.venv/lib/python3.11/site-packages (from pandas) (2023.3)\r\n",
      "Requirement already satisfied: pytz>=2020.1 in /Users/nikita/Documents/projects/things-team/to-the-moon/ttm-analytics/.venv/lib/python3.11/site-packages (from pandas) (2023.3)\r\n",
      "Requirement already satisfied: python-dateutil>=2.8.2 in /Users/nikita/Documents/projects/things-team/to-the-moon/ttm-analytics/.venv/lib/python3.11/site-packages (from pandas) (2.8.2)\r\n",
      "Requirement already satisfied: six>=1.5 in /Users/nikita/Documents/projects/things-team/to-the-moon/ttm-analytics/.venv/lib/python3.11/site-packages (from python-dateutil>=2.8.2->pandas) (1.16.0)\r\n",
      "\u001B[33mWARNING: You are using pip version 21.3.1; however, version 23.1 is available.\r\n",
      "You should consider upgrading via the '/Users/nikita/Documents/projects/things-team/to-the-moon/ttm-analytics/.venv/bin/python -m pip install --upgrade pip' command.\u001B[0m\r\n",
      "Requirement already satisfied: matplotlib in /Users/nikita/Documents/projects/things-team/to-the-moon/ttm-analytics/.venv/lib/python3.11/site-packages (3.7.1)\r\n",
      "Requirement already satisfied: python-dateutil>=2.7 in /Users/nikita/Documents/projects/things-team/to-the-moon/ttm-analytics/.venv/lib/python3.11/site-packages (from matplotlib) (2.8.2)\r\n",
      "Requirement already satisfied: numpy>=1.20 in /Users/nikita/Documents/projects/things-team/to-the-moon/ttm-analytics/.venv/lib/python3.11/site-packages (from matplotlib) (1.24.2)\r\n",
      "Requirement already satisfied: contourpy>=1.0.1 in /Users/nikita/Documents/projects/things-team/to-the-moon/ttm-analytics/.venv/lib/python3.11/site-packages (from matplotlib) (1.0.7)\r\n",
      "Requirement already satisfied: pyparsing>=2.3.1 in /Users/nikita/Documents/projects/things-team/to-the-moon/ttm-analytics/.venv/lib/python3.11/site-packages (from matplotlib) (3.0.9)\r\n",
      "Requirement already satisfied: packaging>=20.0 in /Users/nikita/Documents/projects/things-team/to-the-moon/ttm-analytics/.venv/lib/python3.11/site-packages (from matplotlib) (23.1)\r\n",
      "Requirement already satisfied: fonttools>=4.22.0 in /Users/nikita/Documents/projects/things-team/to-the-moon/ttm-analytics/.venv/lib/python3.11/site-packages (from matplotlib) (4.39.3)\r\n",
      "Requirement already satisfied: cycler>=0.10 in /Users/nikita/Documents/projects/things-team/to-the-moon/ttm-analytics/.venv/lib/python3.11/site-packages (from matplotlib) (0.11.0)\r\n",
      "Requirement already satisfied: kiwisolver>=1.0.1 in /Users/nikita/Documents/projects/things-team/to-the-moon/ttm-analytics/.venv/lib/python3.11/site-packages (from matplotlib) (1.4.4)\r\n",
      "Requirement already satisfied: pillow>=6.2.0 in /Users/nikita/Documents/projects/things-team/to-the-moon/ttm-analytics/.venv/lib/python3.11/site-packages (from matplotlib) (9.5.0)\r\n",
      "Requirement already satisfied: six>=1.5 in /Users/nikita/Documents/projects/things-team/to-the-moon/ttm-analytics/.venv/lib/python3.11/site-packages (from python-dateutil>=2.7->matplotlib) (1.16.0)\r\n",
      "\u001B[33mWARNING: You are using pip version 21.3.1; however, version 23.1 is available.\r\n",
      "You should consider upgrading via the '/Users/nikita/Documents/projects/things-team/to-the-moon/ttm-analytics/.venv/bin/python -m pip install --upgrade pip' command.\u001B[0m\r\n"
     ]
    }
   ],
   "source": [
    "!pip install pandas\n",
    "!pip install matplotlib\n",
    "\n",
    "import datetime as dt\n",
    "\n",
    "import matplotlib.dates as dates\n",
    "import matplotlib.pyplot as plot\n",
    "import pandas as pd"
   ]
  },
  {
   "cell_type": "markdown",
   "metadata": {
    "pycharm": {
     "name": "#%% md\n"
    }
   },
   "source": [
    "# K-lines"
   ]
  },
  {
   "cell_type": "code",
   "execution_count": null,
   "metadata": {
    "pycharm": {
     "name": "#%%\n",
     "is_executing": true
    },
    "tags": []
   },
   "outputs": [],
   "source": [
    "from binance.binance_k_line_loader import load_binance_k_lines\n",
    "from chart.ttm_chart import draw_line_chart\n",
    "\n",
    "# https://www.binance.com/en/support/faq/how-to-download-historical-market-data-on-binance-5810ae42176b4770b880ce1f14932262\n",
    "# k_lines = load_binance_k_lines(f\"../../../ttm-data/ETHUSDT-1s-2023-03-01.csv\")\n",
    "k_lines = load_binance_k_lines(f\"../../../ttm-data/{symbol}-{kLinesInterval}-*.csv\")\n",
    "\n",
    "draw_line_chart(k_lines.open_timestamp_millis, k_lines.open_price, name='Bid Price')\n",
    "k_lines"
   ]
  },
  {
   "cell_type": "markdown",
   "metadata": {
    "pycharm": {
     "name": "#%% md\n"
    }
   },
   "source": [
    "# Ticks:"
   ]
  },
  {
   "cell_type": "code",
   "execution_count": null,
   "metadata": {
    "pycharm": {
     "name": "#%%\n",
     "is_executing": true
    }
   },
   "outputs": [],
   "source": [
    "kLines = k_lines.iterrows()\n",
    "\n",
    "ticks = []\n",
    "\n",
    "for kLineIndex, kLine in kLines:\n",
    "    kLineOpenTimestampMillis = kLine.open_timestamp_millis\n",
    "    kLineOpenPrice = kLine.open_price\n",
    "\n",
    "    tickTimestampMillis = kLineOpenTimestampMillis\n",
    "    tickTimestampSeconds = int(tickTimestampMillis / 1000)\n",
    "    tickPrice = kLineOpenPrice\n",
    "\n",
    "    tick = {}\n",
    "    tick[\"timestampSeconds\"] = tickTimestampSeconds\n",
    "    tick[\"bidPrice\"] = tickPrice\n",
    "    tick[\"askPrice\"] = tickPrice + symbol_ask_bid_price_difference\n",
    "\n",
    "    ticks.append(tick)\n",
    "\n",
    "ticksDataFrame = pd.DataFrame(ticks)\n",
    "\n",
    "ticksDataFrame.head(10)"
   ]
  },
  {
   "cell_type": "markdown",
   "metadata": {
    "pycharm": {
     "name": "#%% md\n"
    }
   },
   "source": [
    "# Ticks price:"
   ]
  },
  {
   "cell_type": "code",
   "execution_count": null,
   "metadata": {
    "pycharm": {
     "name": "#%%\n",
     "is_executing": true
    }
   },
   "outputs": [],
   "source": [
    "ticksPlotFigure = plot.figure()\n",
    "ticksPlotAxes = ticksPlotFigure.add_subplot()\n",
    "ticksPlotAxes.xaxis.set_major_formatter(dates.DateFormatter('%m-%d %H:%M'))\n",
    "plot.xticks(rotation=60)\n",
    "\n",
    "tickDateTimes = [dt.datetime.fromtimestamp(timestampSeconds) for timestampSeconds in ticksDataFrame.timestampSeconds]\n",
    "\n",
    "ticksPlotAxes.plot(tickDateTimes, ticksDataFrame.bidPrice, color='green')\n"
   ]
  },
  {
   "cell_type": "code",
   "execution_count": null,
   "metadata": {
    "pycharm": {
     "name": "#%%\n",
     "is_executing": true
    },
    "tags": []
   },
   "outputs": [],
   "source": [
    "orders = []\n",
    "\n",
    "checkPoint = None\n",
    "\n",
    "\n",
    "def createCheckPoint(tick):\n",
    "    checkPoint = {}\n",
    "    checkPoint['tick'] = tick\n",
    "    checkPoint['priceStep'] = tick['bidPrice'] * checkPointPriceStepRatio\n",
    "    checkPoint['fallStepAskPrice'] = checkPoint[\"tick\"][\"bidPrice\"] - checkPoint['priceStep']\n",
    "    checkPoint['growStepBidPrice'] = checkPoint[\"tick\"][\"askPrice\"] + checkPoint['priceStep']\n",
    "    return checkPoint\n",
    "\n",
    "\n",
    "def createOrder(tick, orderType):\n",
    "    order = {}\n",
    "    order['openTimestampSeconds'] = tick['timestampSeconds']\n",
    "    order['openAskPrice'] = tick['askPrice']\n",
    "    order['openBidPrice'] = tick['bidPrice']\n",
    "    order['type'] = orderType\n",
    "    # print(f\"{orderType} order opened\")\n",
    "    return order\n",
    "\n",
    "\n",
    "def closeOrder(order, tick):\n",
    "    order['closeTimestampSeconds'] = tick['timestampSeconds']\n",
    "    order['closeAskPrice'] = tick['askPrice']\n",
    "    order['closeBidPrice'] = tick['bidPrice']\n",
    "    if order['type'] == 'grow':\n",
    "        order['profit'] = order['closeBidPrice'] - order['openAskPrice']\n",
    "    elif order['type'] == 'fall':\n",
    "        order['profit'] = order['openBidPrice'] - order['closeAskPrice']\n",
    "        # print(f\"Order closed with profit {order['profit']}\")\n",
    "\n",
    "\n",
    "currentOrder = None\n",
    "\n",
    "for tick in ticks:\n",
    "    if (checkPoint == None):\n",
    "        checkPoint = createCheckPoint(tick)\n",
    "        # print(f'Init check point: {checkPoint[\"tick\"][\"askPrice\"]} / {checkPoint[\"tick\"][\"bidPrice\"]} ({checkPoint[\"priceStep\"]})')\n",
    "        continue\n",
    "\n",
    "    growStepDetected = tick['bidPrice'] >= checkPoint['growStepBidPrice']\n",
    "    if (growStepDetected):\n",
    "        # print(f\"\\nGrow step: {tick['bidPrice']} >= {checkPoint['growStepBidPrice']}\")\n",
    "        checkPoint = createCheckPoint(tick)\n",
    "        # print(f'New check point: {checkPoint[\"tick\"][\"askPrice\"]} / {checkPoint[\"tick\"][\"bidPrice\"]} ({checkPoint[\"priceStep\"]})')\n",
    "\n",
    "    if (growStepDetected and currentOrder != None):\n",
    "        closeOrder(currentOrder, tick)\n",
    "        orders.append(currentOrder)\n",
    "        currentOrder = None\n",
    "\n",
    "    if (growStepDetected and currentOrder == None):\n",
    "        currentOrder = createOrder(tick, 'fall')\n",
    "\n",
    "    fallStepDetected = tick[\"askPrice\"] <= checkPoint['fallStepAskPrice']\n",
    "    if (fallStepDetected):\n",
    "        # print(f\"\\nFall step: {tick['askPrice']} <= {checkPoint['fallStepAskPrice']}\")\n",
    "        checkPoint = createCheckPoint(tick)\n",
    "        # print(f'New check point: {checkPoint[\"tick\"][\"askPrice\"]} / {checkPoint[\"tick\"][\"bidPrice\"]} ({checkPoint[\"priceStep\"]})')\n",
    "\n",
    "    if (fallStepDetected and currentOrder != None):\n",
    "        closeOrder(currentOrder, tick)\n",
    "        orders.append(currentOrder)\n",
    "        currentOrder = None\n",
    "\n",
    "    if (fallStepDetected and currentOrder == None):\n",
    "        currentOrder = createOrder(tick, 'grow')\n"
   ]
  },
  {
   "cell_type": "code",
   "execution_count": null,
   "metadata": {
    "pycharm": {
     "name": "#%%\n",
     "is_executing": true
    },
    "tags": []
   },
   "outputs": [],
   "source": [
    "ordersDataFrame = pd.DataFrame(orders)\n",
    "\n",
    "ordersDataFrame.head(46)"
   ]
  },
  {
   "cell_type": "code",
   "execution_count": null,
   "outputs": [],
   "source": [
    "ordersDataFrame.profit"
   ],
   "metadata": {
    "collapsed": false,
    "pycharm": {
     "name": "#%%\n",
     "is_executing": true
    }
   }
  },
  {
   "cell_type": "code",
   "execution_count": null,
   "metadata": {
    "pycharm": {
     "name": "#%%\n",
     "is_executing": true
    },
    "tags": []
   },
   "outputs": [],
   "source": [
    "profits = []\n",
    "\n",
    "currentProfit = 0\n",
    "\n",
    "for order in orders:\n",
    "    profit = {}\n",
    "    currentProfit = currentProfit + order['profit']\n",
    "    profit['value'] = currentProfit\n",
    "    profit['timestampSeconds'] = order['openTimestampSeconds']\n",
    "    profits.append(profit)\n",
    "\n",
    "profitsDataFrame = pd.DataFrame(profits)"
   ]
  },
  {
   "cell_type": "code",
   "execution_count": null,
   "metadata": {
    "pycharm": {
     "name": "#%%\n",
     "is_executing": true
    },
    "tags": []
   },
   "outputs": [],
   "source": [
    "profitPlotFigure = plot.figure()\n",
    "profitPlotAxes = profitPlotFigure.add_subplot()\n",
    "profitPlotAxes.xaxis.set_major_formatter(dates.DateFormatter('%m-%d %H:%M'))\n",
    "plot.xticks(rotation=60)\n",
    "\n",
    "profitDateTimes = [dt.datetime.fromtimestamp(timestampSeconds) for timestampSeconds in\n",
    "                   profitsDataFrame.timestampSeconds]\n",
    "\n",
    "profitPlotAxes.plot(profitDateTimes, profitsDataFrame.value, color='green')"
   ]
  },
  {
   "cell_type": "code",
   "execution_count": null,
   "outputs": [],
   "source": [
    "profitsDataFrame.value"
   ],
   "metadata": {
    "collapsed": false,
    "pycharm": {
     "name": "#%%\n",
     "is_executing": true
    }
   }
  },
  {
   "cell_type": "code",
   "execution_count": null,
   "metadata": {
    "pycharm": {
     "name": "#%%\n",
     "is_executing": true
    }
   },
   "outputs": [],
   "source": [
    "profits[len(profits) - 1]['value']\n"
   ]
  }
 ],
 "metadata": {
  "kernelspec": {
   "display_name": "Python 3 (ipykernel)",
   "language": "python",
   "name": "python3"
  },
  "language_info": {
   "codemirror_mode": {
    "name": "ipython",
    "version": 3
   },
   "file_extension": ".py",
   "mimetype": "text/x-python",
   "name": "python",
   "nbconvert_exporter": "python",
   "pygments_lexer": "ipython3",
   "version": "3.11.3"
  }
 },
 "nbformat": 4,
 "nbformat_minor": 4
}